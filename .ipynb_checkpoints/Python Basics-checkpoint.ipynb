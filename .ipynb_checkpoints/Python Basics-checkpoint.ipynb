{
 "cells": [
  {
   "cell_type": "markdown",
   "metadata": {},
   "source": [
    "# Palindrome"
   ]
  },
  {
   "cell_type": "code",
   "execution_count": 2,
   "metadata": {},
   "outputs": [
    {
     "name": "stdout",
     "output_type": "stream",
     "text": [
      "true\n"
     ]
    }
   ],
   "source": [
    "from sys import stdin\n",
    "def isPalindrome(string):\n",
    "    # Your code goes here\n",
    "    x = len(string)\n",
    "    for i in range (0, x):\n",
    "        if string[i] != string[-(i + 1)]:\n",
    "            return False\n",
    "    return True\n",
    "\n",
    "#main\n",
    "string = stdin.readline().strip()\n",
    "ans = isPalindrome(string)\n",
    "\n",
    "if ans:\n",
    "    print('true')\n",
    "else:\n",
    "    print('false')"
   ]
  },
  {
   "cell_type": "code",
   "execution_count": 4,
   "metadata": {},
   "outputs": [],
   "source": [
    "from sys import stdin\n",
    "\n",
    "\n",
    "def printSubstrings(string) :\n",
    "    # Your code goes here\n",
    "    x = len(string)\n",
    "    for i in range (0, x):\n",
    "        for j in range (i, x):\n",
    "            print (string[i:j])\n",
    "\n",
    "\n",
    "#main\n",
    "string = stdin.readline().strip();\n",
    "printSubstrings(string)"
   ]
  },
  {
   "cell_type": "markdown",
   "metadata": {},
   "source": [
    "\n",
    "\n",
    "\n",
    "Different Names\n",
    "Send Feedback\n",
    "In Little Flowers Public School, there are many students with same first names. You are given a task to find the students with same names. You will be given a string comprising of all the names of students and you have to tell the name and count of those students having same. If all the names are unique, print -1 instead.\n",
    "Note: We don't have to mention names whose frequency is 1.\n",
    "Input Format:\n",
    "The only line of input will have a string ‘str’ with space separated first names of students.\n",
    "Output Format:\n",
    "Print the names of students along with their count if they are repeating. If no name is repeating, print -1\n",
    "Constraints:\n",
    "1 <= |str| <= 10^5\n",
    "Time Limit: 1 second\n",
    "Sample Input 1:\n",
    "Abhishek harshit Ayush harshit Ayush Iti Deepak Ayush Iti\n",
    "Sample Output 1:\n",
    "harshit 2\n",
    "Ayush 3\n",
    "Iti 2\n",
    "Sample Input 2:\n",
    "Abhishek Harshit Ayush Iti\n",
    "Sample Output:\n",
    "-1"
   ]
  }
 ],
 "metadata": {
  "kernelspec": {
   "display_name": "Python 3",
   "language": "python",
   "name": "python3"
  },
  "language_info": {
   "codemirror_mode": {
    "name": "ipython",
    "version": 3
   },
   "file_extension": ".py",
   "mimetype": "text/x-python",
   "name": "python",
   "nbconvert_exporter": "python",
   "pygments_lexer": "ipython3",
   "version": "3.8.5"
  },
  "widgets": {
   "application/vnd.jupyter.widget-state+json": {
    "state": {},
    "version_major": 2,
    "version_minor": 0
   }
  }
 },
 "nbformat": 4,
 "nbformat_minor": 4
}

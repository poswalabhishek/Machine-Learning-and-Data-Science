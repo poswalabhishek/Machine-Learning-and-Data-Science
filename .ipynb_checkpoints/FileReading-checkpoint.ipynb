{
 "cells": [
  {
   "cell_type": "code",
   "execution_count": 7,
   "metadata": {},
   "outputs": [
    {
     "name": "stdout",
     "output_type": "stream",
     "text": [
      "1 2275\n",
      "2 2027\n",
      "3 2463\n",
      "4 2142\n",
      "5 2936\n",
      "6 2506\n",
      "7 2228\n",
      "8 2145\n",
      "9 1764\n",
      "10 2580\n",
      "11 2014\n",
      "12 1365\n"
     ]
    }
   ],
   "source": [
    "## Open and read data file as specified in the question\n",
    "## Print the required output in given format\n",
    "import csv\n",
    "with open(\"year2017.csv\", 'r') as f:\n",
    "    f_d = csv.DictReader(f, skipinitialspace = True)\n",
    "    \n",
    "    d = {}\n",
    "    for row in f_d:\n",
    "        key = row['Month']\n",
    "        val = row['Killed']\n",
    "        \n",
    "        if val != '':\n",
    "            d[key] = d.get(key, 0) + int(float(val))\n",
    "        \n",
    "    for row in d:\n",
    "        print(row, d[row])"
   ]
  }
 ],
 "metadata": {
  "kernelspec": {
   "display_name": "Python 3",
   "language": "python",
   "name": "python3"
  },
  "language_info": {
   "codemirror_mode": {
    "name": "ipython",
    "version": 3
   },
   "file_extension": ".py",
   "mimetype": "text/x-python",
   "name": "python",
   "nbconvert_exporter": "python",
   "pygments_lexer": "ipython3",
   "version": "3.8.5"
  }
 },
 "nbformat": 4,
 "nbformat_minor": 4
}

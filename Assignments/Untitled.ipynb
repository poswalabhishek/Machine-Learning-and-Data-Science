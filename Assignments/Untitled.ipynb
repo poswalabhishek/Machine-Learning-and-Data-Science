{
 "cells": [
  {
   "cell_type": "code",
   "execution_count": 12,
   "id": "settled-bahamas",
   "metadata": {},
   "outputs": [
    {
     "name": "stdout",
     "output_type": "stream",
     "text": [
      "66330\n"
     ]
    }
   ],
   "source": [
    "import numpy as np\n",
    "import csv\n",
    "\n",
    "day = []\n",
    "with open (\"terrorismData.csv\") as file_obj:\n",
    "    fd = csv.DictReader (file_obj)\n",
    "    \n",
    "    for i in fd:\n",
    "        day.append(i[\"Day\"])\n",
    "npday = np.array(day, dtype = float)\n",
    "npday = npday[(npday >= 10) & (npday <= 20)]\n",
    "print (npday.shape[0])"
   ]
  },
  {
   "cell_type": "code",
   "execution_count": null,
   "id": "lucky-painting",
   "metadata": {},
   "outputs": [],
   "source": [
    "import numpy as np\n",
    "import csv\n",
    "\n",
    "with open(\"terrorismData.csv\") as file_obj:\n",
    "    fs = csv.DictReader(file_obj)\n",
    "    \n",
    "    for i in fd:\n",
    "        "
   ]
  }
 ],
 "metadata": {
  "kernelspec": {
   "display_name": "Python 3",
   "language": "python",
   "name": "python3"
  },
  "language_info": {
   "codemirror_mode": {
    "name": "ipython",
    "version": 3
   },
   "file_extension": ".py",
   "mimetype": "text/x-python",
   "name": "python",
   "nbconvert_exporter": "python",
   "pygments_lexer": "ipython3",
   "version": "3.8.5"
  }
 },
 "nbformat": 4,
 "nbformat_minor": 5
}

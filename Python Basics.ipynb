{
 "cells": [
  {
   "cell_type": "markdown",
   "metadata": {},
   "source": [
    "# Palindrome"
   ]
  },
  {
   "cell_type": "code",
   "execution_count": 2,
   "metadata": {},
   "outputs": [
    {
     "name": "stdout",
     "output_type": "stream",
     "text": [
      "true\n"
     ]
    }
   ],
   "source": [
    "from sys import stdin\n",
    "def isPalindrome(string):\n",
    "    # Your code goes here\n",
    "    x = len(string)\n",
    "    for i in range (0, x):\n",
    "        if string[i] != string[-(i + 1)]:\n",
    "            return False\n",
    "    return True\n",
    "\n",
    "#main\n",
    "string = stdin.readline().strip()\n",
    "ans = isPalindrome(string)\n",
    "\n",
    "if ans:\n",
    "    print('true')\n",
    "else:\n",
    "    print('false')"
   ]
  },
  {
   "cell_type": "code",
   "execution_count": 4,
   "metadata": {},
   "outputs": [],
   "source": [
    "from sys import stdin\n",
    "\n",
    "\n",
    "def printSubstrings(string) :\n",
    "    # Your code goes here\n",
    "    x = len(string)\n",
    "    for i in range (0, x):\n",
    "        for j in range (i, x):\n",
    "            print (string[i:j])\n",
    "\n",
    "\n",
    "#main\n",
    "string = stdin.readline().strip();\n",
    "printSubstrings(string)"
   ]
  },
  {
   "cell_type": "markdown",
   "metadata": {},
   "source": [
    "# Dictionary\n",
    "\n",
    "Different Names\n",
    "Send Feedback\n",
    "In Little Flowers Public School, there are many students with same first names. You are given a task to find the students with same names. You will be given a string comprising of all the names of students and you have to tell the name and count of those students having same. If all the names are unique, print -1 instead. <br>\n",
    "Note: We don't have to mention names whose frequency is 1. <br>\n",
    "Input Format:<br>\n",
    "The only line of input will have a string ‘str’ with space separated first names of students.<br>\n",
    "Output Format:<br>\n",
    "Print the names of students along with their count if they are repeating. If no name is repeating, print -1<br>\n",
    "Constraints:<br>\n",
    "1 <= |str| <= 10^5<br>\n",
    "Time Limit: 1 second<br>\n",
    "Sample Input 1:<br>\n",
    "Abhishek harshit Ayush harshit Ayush Iti Deepak Ayush Iti<br>\n",
    "Sample Output 1:<br>\n",
    "harshit 2<br>\n",
    "Ayush 3<br>\n",
    "Iti 2<br>\n",
    "Sample Input 2:<br>\n",
    "Abhishek Harshit Ayush Iti<br>\n",
    "Sample Output:<br>\n",
    "-1<br>"
   ]
  },
  {
   "cell_type": "code",
   "execution_count": 4,
   "metadata": {},
   "outputs": [
    {
     "name": "stdout",
     "output_type": "stream",
     "text": [
      "asa li asa li as a k k\n",
      "asa 2\n",
      "li 2\n",
      "k 2\n"
     ]
    }
   ],
   "source": [
    "def differentNames(l):\n",
    "    # Please add your code here\n",
    "    d = {}\n",
    "    for name in l:\n",
    "        d[name] = d.get(name, 0) + 1\n",
    "    for n in d:\n",
    "        if d[n] > 1:\n",
    "            print (n, d[n])\n",
    "    return d\n",
    "    pass\n",
    "\n",
    "# Main\n",
    "names = input().strip().split()\n",
    "m = differentNames(names)"
   ]
  },
  {
   "cell_type": "markdown",
   "metadata": {},
   "source": [
    "You are provided with an integer array where each number is present either odd number of times or even number of times. You have to find and return the number which is present even number of times. <br>\n",
    "If multiple numbers are present even number of times, then return that number which occurs first among these numbers in the given array. If no such number exists, then return -1."
   ]
  },
  {
   "cell_type": "code",
   "execution_count": 5,
   "metadata": {},
   "outputs": [
    {
     "name": "stdout",
     "output_type": "stream",
     "text": [
      "1\n",
      "1\n",
      "None\n"
     ]
    }
   ],
   "source": [
    "def evenCount(arr):\n",
    "    d = {}\n",
    "    for i in arr:\n",
    "        d[i] = d.get(i, 0) + 1\n",
    "    \n",
    "    for i in arr:\n",
    "        if not(d[i] % 2):\n",
    "            return i\n",
    "            \n",
    "    pass\n",
    "\n",
    "# Main\n",
    "n=int(input())\n",
    "arr=list(int(i) for i in input().strip().split(' '))\n",
    "print(evenCount(arr))"
   ]
  },
  {
   "cell_type": "code",
   "execution_count": null,
   "metadata": {},
   "outputs": [],
   "source": [
    "import operator\n",
    "\n",
    "def fact (n):\n",
    "    if n < 1:\n",
    "        return 0\n",
    "    if n == 1:\n",
    "        return 1\n",
    "    return n * fact(n - 1)\n",
    "\n",
    "def printPairDiffK(l, k):\n",
    "    #############################\n",
    "    # PLEASE ADD YOUR CODE HERE #\n",
    "    #############################\n",
    "    counter = 0\n",
    "    d = {}\n",
    "    for i in l:\n",
    "        d[i] = d.get(i, 0) + 1\n",
    "        \n",
    "    for i in d:\n",
    "        diff1 = i - k\n",
    "        diff2 = i + k\n",
    "        # print( diff2)\n",
    "        # print(d)\n",
    "        if diff1 in d and d[i] > 0:\n",
    "             if i == diff2:\n",
    "                d[i] -= 1\n",
    "                # print(d[i])\n",
    "                counter += fact(d[i])\n",
    "             else:\n",
    "                counter = counter + (d[diff1] * d[i])\n",
    "        if diff2 in d and d[i] > 0:\n",
    "            if i == diff2:\n",
    "                d[i] -= 1\n",
    "                # print(d[i])\n",
    "                counter += fact(d[i])\n",
    "            else:\n",
    "                counter = counter + (d[diff2] * d[i])\n",
    "        d[i] = 0\n",
    "    return counter\n",
    "    \n",
    "# Main\n",
    "n=int(input())\n",
    "l=list(int(i) for i in input().strip().split(' '))\n",
    "k=int(input())\n",
    "print(printPairDiffK(l, k))"
   ]
  },
  {
   "cell_type": "code",
   "execution_count": 3,
   "metadata": {},
   "outputs": [
    {
     "name": "stdout",
     "output_type": "stream",
     "text": [
      "Rohan 20\n"
     ]
    }
   ],
   "source": [
    "class Student:\n",
    "    def __init__(self,name,age):\n",
    "        self.name = \"Rohan\"\n",
    "        self.age = 20\n",
    "\n",
    "    def print_student_details(self):\n",
    "        print(self.name, end= \" \")\n",
    "        print(self.age)\n",
    "        \n",
    "s = Student(\"Parikh\",25)\n",
    "s.print_student_details()"
   ]
  },
  {
   "cell_type": "code",
   "execution_count": 10,
   "metadata": {},
   "outputs": [
    {
     "name": "stdout",
     "output_type": "stream",
     "text": [
      "1\n"
     ]
    }
   ],
   "source": [
    "class A:\n",
    "     def __init__(self):\n",
    "         self.x = 1\n",
    "         self.__y = 1\n",
    "     def getY(self):\n",
    "         return self.__y\n",
    "a = A()\n",
    "a.__y = 45\n",
    "print(a.getY())"
   ]
  },
  {
   "cell_type": "code",
   "execution_count": 12,
   "metadata": {},
   "outputs": [
    {
     "data": {
      "text/plain": [
       "45"
      ]
     },
     "execution_count": 12,
     "metadata": {},
     "output_type": "execute_result"
    }
   ],
   "source": [
    "a.x\n",
    "a.__y"
   ]
  },
  {
   "cell_type": "code",
   "execution_count": 27,
   "metadata": {},
   "outputs": [
    {
     "name": "stdout",
     "output_type": "stream",
     "text": [
      "R\n",
      "R 20\n"
     ]
    }
   ],
   "source": [
    "class Student:\n",
    "     def __init__(self,name,age):\n",
    "        self.__name = name\n",
    "        self.age = age\n",
    "     def getName (self):\n",
    "        return self.__name\n",
    "     def print_student_details(self):\n",
    "        print(self.__name, end= \" \")\n",
    "        print(self.age)\n",
    "\n",
    "s = Student(\"R\",20)\n",
    "print(s.getName())\n",
    "s.print_student_details()"
   ]
  }
 ],
 "metadata": {
  "kernelspec": {
   "display_name": "Python 3",
   "language": "python",
   "name": "python3"
  },
  "language_info": {
   "codemirror_mode": {
    "name": "ipython",
    "version": 3
   },
   "file_extension": ".py",
   "mimetype": "text/x-python",
   "name": "python",
   "nbconvert_exporter": "python",
   "pygments_lexer": "ipython3",
   "version": "3.8.5"
  },
  "widgets": {
   "application/vnd.jupyter.widget-state+json": {
    "state": {},
    "version_major": 2,
    "version_minor": 0
   }
  }
 },
 "nbformat": 4,
 "nbformat_minor": 4
}
